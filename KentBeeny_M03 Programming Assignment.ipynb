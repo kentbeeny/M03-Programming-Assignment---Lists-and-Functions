{
 "cells": [
  {
   "cell_type": "code",
   "execution_count": 9,
   "id": "4ecb8ecd",
   "metadata": {},
   "outputs": [],
   "source": [
    "#7.4\n",
    "things = ['mozzarella', 'cinderella', 'salmonella']"
   ]
  },
  {
   "cell_type": "code",
   "execution_count": 11,
   "id": "f887f4f5",
   "metadata": {},
   "outputs": [
    {
     "name": "stdout",
     "output_type": "stream",
     "text": [
      "['mozzarella', 'Cinderella', 'salmonella']\n"
     ]
    }
   ],
   "source": [
    "#7.5\n",
    "things = ['mozzarella', 'cinderella', 'salmonella']\n",
    "things[1] = things[1].capitalize()\n",
    "print(things)\n",
    "#It did change the element in the list. \n",
    "#Luckily for us, lists in Python are mutable"
   ]
  },
  {
   "cell_type": "code",
   "execution_count": 12,
   "id": "3c565d8e",
   "metadata": {},
   "outputs": [
    {
     "name": "stdout",
     "output_type": "stream",
     "text": [
      "['mozzarella', 'cinderella', 'SALMONELLA']\n"
     ]
    }
   ],
   "source": [
    "#7.6\n",
    "things = ['mozzarella', 'cinderella', 'salmonella']\n",
    "things[2] = things[2].upper()\n",
    "print(things)"
   ]
  },
  {
   "cell_type": "code",
   "execution_count": 13,
   "id": "747f3b6a",
   "metadata": {},
   "outputs": [
    {
     "name": "stdout",
     "output_type": "stream",
     "text": [
      "['mozzarella', 'cinderella']\n"
     ]
    }
   ],
   "source": [
    "#7.7\n",
    "things = ['mozzarella', 'cinderella', 'salmonella']\n",
    "del things[-1]\n",
    "print(things)"
   ]
  },
  {
   "cell_type": "code",
   "execution_count": 14,
   "id": "837c4524",
   "metadata": {},
   "outputs": [],
   "source": [
    "#9.1\n",
    "def good():\n",
    "    return ['Harry', 'Ron', 'Hermione']"
   ]
  },
  {
   "cell_type": "code",
   "execution_count": 56,
   "id": "600cad6a",
   "metadata": {},
   "outputs": [
    {
     "name": "stdout",
     "output_type": "stream",
     "text": [
      "5\n"
     ]
    }
   ],
   "source": [
    "#9.2\n",
    "def get_odds(start=1, end=10):\n",
    "    odds = start\n",
    "    while odds <= end:\n",
    "        if odds % 2 != 0:\n",
    "            yield odds\n",
    "            odds += 1\n",
    "        else:\n",
    "            odds += 1\n",
    "\n",
    "oddsGotten = get_odds()\n",
    "counter = 0\n",
    "for i in oddsGotten:\n",
    "    if counter == 2:\n",
    "        print(i)\n",
    "    counter += 1"
   ]
  }
 ],
 "metadata": {
  "kernelspec": {
   "display_name": "Python 3 (ipykernel)",
   "language": "python",
   "name": "python3"
  },
  "language_info": {
   "codemirror_mode": {
    "name": "ipython",
    "version": 3
   },
   "file_extension": ".py",
   "mimetype": "text/x-python",
   "name": "python",
   "nbconvert_exporter": "python",
   "pygments_lexer": "ipython3",
   "version": "3.11.5"
  }
 },
 "nbformat": 4,
 "nbformat_minor": 5
}
